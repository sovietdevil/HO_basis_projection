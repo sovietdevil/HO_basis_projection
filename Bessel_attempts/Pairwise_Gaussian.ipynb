{
 "cells": [
  {
   "cell_type": "code",
   "execution_count": null,
   "metadata": {},
   "outputs": [],
   "source": [
    "import numpy as np\n",
    "from matplotlib import pyplot as plt\n",
    "import sys\n",
    "sys.path.append(\"../Functions\")\n",
    "from GS_waves import select_freq_range, propagation_ew\n",
    "from abtem.waves import PlaneWave\n",
    "from Column_matching import (\n",
    "    Bessel_transform,\n",
    "    propagation_Bessel\n",
    ")\n",
    "sys.path.append(\"Bessel_trends\")\n",
    "#import Generate_structure\n",
    "from ase.visualize.plot import plot_atoms\n",
    "from ase.io import read, write\n",
    "from Complex_Gaussian import(\n",
    "    Gaussian_function,\n",
    "    Gaussian_in_focus,\n",
    "    Gaussian_fitting\n",
    ")\n",
    "from Defocus_circle import generate_continious_phase\n",
    "from sklearn.linear_model import LinearRegression"
   ]
  },
  {
   "cell_type": "code",
   "execution_count": null,
   "metadata": {},
   "outputs": [],
   "source": []
  }
 ],
 "metadata": {
  "kernelspec": {
   "display_name": "base",
   "language": "python",
   "name": "python3"
  },
  "language_info": {
   "codemirror_mode": {
    "name": "ipython",
    "version": 3
   },
   "file_extension": ".py",
   "mimetype": "text/x-python",
   "name": "python",
   "nbconvert_exporter": "python",
   "pygments_lexer": "ipython3",
   "version": "3.11.6"
  }
 },
 "nbformat": 4,
 "nbformat_minor": 2
}
